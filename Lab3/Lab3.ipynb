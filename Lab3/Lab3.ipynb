{
 "cells": [
  {
   "cell_type": "markdown",
   "metadata": {},
   "source": [
    "## 1 - 1"
   ]
  },
  {
   "cell_type": "code",
   "execution_count": 1,
   "metadata": {
    "collapsed": false
   },
   "outputs": [],
   "source": [
    "import cv2\n",
    "import numpy as np\n",
    "import sys\n",
    "import math\n",
    "import random\n",
    "from matplotlib import pyplot as plt"
   ]
  },
  {
   "cell_type": "code",
   "execution_count": 2,
   "metadata": {
    "collapsed": true
   },
   "outputs": [],
   "source": [
    "def findM(UVs,XYZs,verbose=False):\n",
    "    n=len(UVs)\n",
    "    As=np.zeros((2*n,12))\n",
    "    for i in range(0,n):\n",
    "        for j in range(0,2):\n",
    "            curr2d=-XYZs[i,:]*UVs[i,:][j]#is it right ?\n",
    "            if(j==1):\n",
    "                rangeJ=slice(4,8)\n",
    "            else:\n",
    "                rangeJ=slice(0,4)\n",
    "            As[2*i+j,rangeJ]=XYZs[i,:]\n",
    "            As[2*i+j,slice(8,12)]=curr2d\n",
    "            if(verbose):\n",
    "                print(\"step \"+str(2*i+j))\n",
    "                print(\"XYZ= \")\n",
    "                print(XYZs[i,:])\n",
    "                print(\"UV\")\n",
    "                print(UVs[i,:][j])\n",
    "                print(curr2d)            \n",
    "                print(\"As=\")\n",
    "                print(As[2*i+j,:])\n",
    "   \n",
    "    doted=np.dot(As.T,As)\n",
    "    _, _,vectors = np.linalg.svd(doted)\n",
    "    m=vectors[-1]\n",
    "    m=m.reshape(3,4)\n",
    "    return m"
   ]
  },
  {
   "cell_type": "code",
   "execution_count": 3,
   "metadata": {
    "collapsed": true
   },
   "outputs": [],
   "source": [
    "UVs=np.loadtxt('pts2d-norm-pic_a.txt')\n",
    "XYZs=np.loadtxt('pts3d-norm.txt')\n",
    "ones=np.ones(len(XYZs))\n",
    "ones=ones[:,None]\n",
    "XYZsNm=np.concatenate((XYZs,ones),axis=1)"
   ]
  },
  {
   "cell_type": "code",
   "execution_count": 4,
   "metadata": {
    "collapsed": false
   },
   "outputs": [
    {
     "name": "stdout",
     "output_type": "stream",
     "text": [
      "m = \n",
      "[[ 0.45827554 -0.29474237 -0.01395746  0.0040258 ]\n",
      " [-0.05085589 -0.0545847  -0.54105993 -0.05237592]\n",
      " [ 0.10900958  0.17834548 -0.04426782  0.5968205 ]]\n"
     ]
    }
   ],
   "source": [
    "m=findM(UVs,XYZsNm)\n",
    "print(\"m = \\n\"+str(m))"
   ]
  },
  {
   "cell_type": "code",
   "execution_count": 5,
   "metadata": {
    "collapsed": false
   },
   "outputs": [
    {
     "name": "stdout",
     "output_type": "stream",
     "text": [
      "Last coordianet computed [ 0.14190608 -0.45184301]\n",
      "Distance between computed and true = 0.0129913733751\n"
     ]
    }
   ],
   "source": [
    "def project(m,XYZsNm,UVs):#retrurns the projection and residual     \n",
    "    UVsHom=np.dot(m,XYZsNm.T)\n",
    "    UVsComp=np.zeros((len(UVs),2))\n",
    "    for i in range(len(UVs)):\n",
    "        for j in range(0,2):\n",
    "            UVsComp[i,j]=UVsHom[j,i]/UVsHom[2,i]\n",
    "\n",
    "    dist = np.linalg.norm(UVs-UVsComp)\n",
    "    return UVsComp,dist\n",
    "\n",
    "UVsComp,dist=project(m,XYZsNm,UVs)\n",
    "print(\"Last coordianet computed \"+str(UVsComp[-1]))\n",
    "print(\"Distance between computed and true = \"+str(dist))       "
   ]
  },
  {
   "cell_type": "markdown",
   "metadata": {},
   "source": [
    "## 1 - 2"
   ]
  },
  {
   "cell_type": "code",
   "execution_count": 6,
   "metadata": {
    "collapsed": false
   },
   "outputs": [
    {
     "name": "stdout",
     "output_type": "stream",
     "text": [
      "Residual at try 0 for k = 8 is 1.08180833574\n",
      "Residual at try 1 for k = 8 is 1.36739088686\n",
      "Residual at try 2 for k = 8 is 2.51071447053\n",
      "Residual at try 3 for k = 8 is 1.1732115195\n",
      "Residual at try 4 for k = 8 is 1.06942534423\n",
      "Residual at try 5 for k = 8 is 1.45370193624\n",
      "Residual at try 6 for k = 8 is 2.00134544462\n",
      "Residual at try 7 for k = 8 is 1.6986542318\n",
      "Residual at try 8 for k = 8 is 1.29125334104\n",
      "Residual at try 9 for k = 8 is 1.24340735826\n",
      "Residual at try 0 for k = 12 is 2.11348496895\n",
      "Residual at try 1 for k = 12 is 2.4321150618\n",
      "Residual at try 2 for k = 12 is 1.87386365702\n",
      "Residual at try 3 for k = 12 is 2.66974308561\n",
      "Residual at try 4 for k = 12 is 1.67948815691\n",
      "Residual at try 5 for k = 12 is 2.99249015193\n",
      "Residual at try 6 for k = 12 is 2.80401007102\n",
      "Residual at try 7 for k = 12 is 2.45182856049\n",
      "Residual at try 8 for k = 12 is 2.95633164862\n",
      "Residual at try 9 for k = 12 is 2.73609935729\n",
      "Residual at try 0 for k = 16 is 3.09001067584\n",
      "Residual at try 1 for k = 16 is 3.50275398771\n",
      "Residual at try 2 for k = 16 is 3.57249840352\n",
      "Residual at try 3 for k = 16 is 3.43962061928\n",
      "Residual at try 4 for k = 16 is 3.21483152889\n",
      "Residual at try 5 for k = 16 is 2.69178320391\n",
      "Residual at try 6 for k = 16 is 3.23647965102\n",
      "Residual at try 7 for k = 16 is 2.93928623262\n",
      "Residual at try 8 for k = 16 is 3.56572156249\n",
      "Residual at try 9 for k = 16 is 3.39926943391\n",
      "Best m found with residual of 1.06942534423 is \n",
      "[[ -6.47530349e-03   3.45419208e-03   2.32924081e-03   8.33795941e-01]\n",
      " [ -1.51604813e-03  -1.00124991e-03   7.12327061e-03   5.51960887e-01]\n",
      " [ -7.26380901e-06  -3.56474263e-06   3.66148895e-06   3.19049495e-03]]\n"
     ]
    }
   ],
   "source": [
    "UVs=np.loadtxt('pts2d-pic_b.txt')\n",
    "XYZs=np.loadtxt('pts3d.txt')\n",
    "n=len(XYZs)\n",
    "ones=np.ones(n)\n",
    "ones=ones[:,None]\n",
    "XYZsNm=np.concatenate((XYZs,ones),axis=1)\n",
    "\n",
    "distMin=math.inf\n",
    "ks=[8,12,16]\n",
    "for k in ks:\n",
    "    for i in range(0,10):\n",
    "        selected=random.sample(range(0,n),k)\n",
    "        UVsK=UVs[selected]\n",
    "        XYZsNmK=XYZsNm[selected]\n",
    "        m=findM(UVsK,XYZsNmK)\n",
    "        while True:\n",
    "            others=random.sample(range(0,n),4)\n",
    "            if(not(any(x in selected for x in others))):\n",
    "                break\n",
    "        UVsCompK,distK=project(m,XYZsNmK,UVsK)\n",
    "        if(distK<distMin):\n",
    "            distMin=distK\n",
    "            bestM=m\n",
    "        print(\"Residual at try \"+str(i)+\" for k = \"+str(k)+\" is \"+str(distK))\n",
    "\n",
    "print(\"Best m found with residual of \"+str(distMin)+\" is \\n\"+str(bestM))"
   ]
  },
  {
   "cell_type": "markdown",
   "metadata": {},
   "source": [
    "We notice that the residual seem to be smaller when choosing randomly points in the set, and picking the best m for different random selections. Computing m with a bigger set increases the probability of fitting noise."
   ]
  },
  {
   "cell_type": "markdown",
   "metadata": {},
   "source": [
    "## 1 - 3"
   ]
  },
  {
   "cell_type": "code",
   "execution_count": 7,
   "metadata": {
    "collapsed": false
   },
   "outputs": [
    {
     "name": "stdout",
     "output_type": "stream",
     "text": [
      "Debug output = [ 303.11786683  307.1810989    30.42373048]\n",
      "Output for previous best m = [ 303.66889138  307.41013641   30.35265032]\n"
     ]
    }
   ],
   "source": [
    "def findC(bestM):\n",
    "    Q=bestM[:,0:3]\n",
    "    m4=bestM[:,3]\n",
    "    Qinv=np.linalg.inv(Q)\n",
    "    C=np.dot(-Qinv,m4.T)\n",
    "    return C\n",
    "C=findC(m)\n",
    "print(\"Debug output = \"+str(C))\n",
    "C=findC(bestM)\n",
    "print(\"Output for previous best m = \"+str(C))"
   ]
  },
  {
   "cell_type": "markdown",
   "metadata": {},
   "source": [
    "# 2"
   ]
  },
  {
   "cell_type": "markdown",
   "metadata": {},
   "source": [
    "## 2 - 1"
   ]
  },
  {
   "cell_type": "code",
   "execution_count": 8,
   "metadata": {
    "collapsed": true
   },
   "outputs": [],
   "source": [
    "UVsA=np.loadtxt('pts2d-pic_a.txt')\n",
    "UVsB=np.loadtxt('pts2d-pic_b.txt')\n",
    "ones=np.ones(len(UVsA))\n",
    "ones=ones[:,None]\n",
    "UVsA=np.concatenate((UVsA,ones),axis=1)\n",
    "UVsB=np.concatenate((UVsB,ones),axis=1)\n"
   ]
  },
  {
   "cell_type": "code",
   "execution_count": 9,
   "metadata": {
    "collapsed": true
   },
   "outputs": [],
   "source": [
    "def findF(UVsA,UVsB,verbose=False):\n",
    "    n=len(UVs)\n",
    "    As=np.zeros((n,9))\n",
    "    for i in range(0,n):\n",
    "        currA=UVsA[i,:]\n",
    "        currB=UVsB[i,:]\n",
    "        for j in range(0,3):\n",
    "            rangeCurr=slice(0+j*3,3+j*3)\n",
    "            As[i,rangeCurr]=currB*currA[j]\n",
    "        if(verbose):\n",
    "            print(\"UV A\")\n",
    "            print(currA)\n",
    "            print(\"UV B\")\n",
    "            print(currB)\n",
    "            print(\"Line\")\n",
    "            print(As[i,:])\n",
    "    doted=np.dot(As.T,As)\n",
    "    _, _,vectors = np.linalg.svd(doted)\n",
    "    m=vectors[-1]\n",
    "    m=m.reshape(3,3)\n",
    "    if(verbose):\n",
    "        print(As)\n",
    "    return m"
   ]
  },
  {
   "cell_type": "code",
   "execution_count": 10,
   "metadata": {
    "collapsed": false
   },
   "outputs": [
    {
     "name": "stdout",
     "output_type": "stream",
     "text": [
      "f_ = \n",
      "[[ -6.60698417e-07   8.82396296e-06  -9.07382302e-04]\n",
      " [  7.91031621e-06   1.21382933e-06  -2.64234650e-02]\n",
      " [ -1.88600198e-03   1.72332901e-02   9.99500092e-01]]\n"
     ]
    }
   ],
   "source": [
    "f_=findF(UVsA,UVsB)\n",
    "print(\"f_ = \\n\"+str(f_))"
   ]
  },
  {
   "cell_type": "markdown",
   "metadata": {},
   "source": [
    "## 2 - 2"
   ]
  },
  {
   "cell_type": "code",
   "execution_count": 11,
   "metadata": {
    "collapsed": false
   },
   "outputs": [
    {
     "name": "stdout",
     "output_type": "stream",
     "text": [
      "f = \n",
      "[[ -5.36264198e-07   8.83539184e-06  -9.07382264e-04]\n",
      " [  7.90364771e-06   1.21321685e-06  -2.64234650e-02]\n",
      " [ -1.88600204e-03   1.72332901e-02   9.99500092e-01]]\n"
     ]
    }
   ],
   "source": [
    "def reduceRank(f_):\n",
    "    u, e, vt = np.linalg.svd(f_)\n",
    "    e[-1]=0\n",
    "    f=np.dot(np.dot(u,np.diag(e)), vt)\n",
    "    return f\n",
    "f=reduceRank(f_)\n",
    "print(\"f = \\n\"+str(f))"
   ]
  },
  {
   "cell_type": "markdown",
   "metadata": {},
   "source": [
    "## 2 - 3 "
   ]
  },
  {
   "cell_type": "code",
   "execution_count": 12,
   "metadata": {
    "collapsed": true
   },
   "outputs": [],
   "source": [
    "lineB=np.dot(UVsA,f)\n",
    "lineA=np.dot(UVsB,f.T)"
   ]
  },
  {
   "cell_type": "code",
   "execution_count": 13,
   "metadata": {
    "collapsed": true
   },
   "outputs": [],
   "source": [
    "def drawlines(img,lines,pts1,pts2):\n",
    "    r,c,_ = img.shape\n",
    "    for r in lines:\n",
    "        x0,y0 = map(int, [0, -r[2]/r[1] ])\n",
    "        x1,y1 = map(int, [c, -(r[2]+r[0]*c)/r[1] ])\n",
    "        img = cv2.line(img, (x0,y0), (x1,y1),1)\n",
    "    return img"
   ]
  },
  {
   "cell_type": "code",
   "execution_count": 14,
   "metadata": {
    "collapsed": false
   },
   "outputs": [],
   "source": [
    "imgA = cv2.imread('pic_a.jpg')  \n",
    "imgB = cv2.imread('pic_b.jpg') \n",
    "\n",
    "imgBLines = drawlines(imgB,lineB,UVsB,UVsA)\n",
    "imgALines = drawlines(imgA,lineA,UVsA,UVsB)\n",
    "\n",
    "b,g,r = cv2.split(imgALines)       # get b,g,r\n",
    "imgALines = cv2.merge([r,g,b])     # switch it to rgb\n",
    "plt.figure(figsize=(20,30))\n",
    "plt.imshow(imgALines)\n",
    "plt.title('Left with lines'), plt.xticks([]), plt.yticks([])\n",
    "plt.show()\n",
    "\n",
    "b,g,r = cv2.split(imgBLines)       # get b,g,r\n",
    "imgBLines = cv2.merge([r,g,b])     # switch it to rgb\n",
    "plt.figure(figsize=(20,30))\n",
    "plt.imshow(imgBLines)\n",
    "plt.title('Right with lines'), plt.xticks([]), plt.yticks([])\n",
    "plt.show()"
   ]
  },
  {
   "cell_type": "markdown",
   "metadata": {
    "collapsed": true
   },
   "source": [
    "## 2 - 4"
   ]
  },
  {
   "cell_type": "code",
   "execution_count": 15,
   "metadata": {
    "collapsed": true
   },
   "outputs": [],
   "source": [
    "UVsA=np.loadtxt('pts2d-pic_a.txt')\n",
    "UVsB=np.loadtxt('pts2d-pic_b.txt')\n",
    "ones=np.ones(len(UVsA))\n",
    "ones=ones[:,None]\n",
    "UVsA=np.concatenate((UVsA,ones),axis=1)\n",
    "UVsB=np.concatenate((UVsB,ones),axis=1)"
   ]
  },
  {
   "cell_type": "code",
   "execution_count": 16,
   "metadata": {
    "collapsed": false
   },
   "outputs": [
    {
     "data": {
      "text/plain": [
       "558.95000000000005"
      ]
     },
     "execution_count": 16,
     "metadata": {},
     "output_type": "execute_result"
    }
   ],
   "source": [
    "UVsA[:,0].mean()"
   ]
  },
  {
   "cell_type": "code",
   "execution_count": 17,
   "metadata": {
    "collapsed": true
   },
   "outputs": [],
   "source": [
    "def findT(UVs):\n",
    "    UVsCop=UVs.copy()\n",
    "    S=np.eye(3)\n",
    "    C=np.eye(3)\n",
    "    Cu=UVs[:,0].mean()\n",
    "    Cv=UVs[:,1].mean()\n",
    "    C[0,2]-=Cu\n",
    "    C[1,2]-=Cv\n",
    "    UVsCop[:,0]-=Cu\n",
    "    UVsCop[:,1]-=Cv\n",
    "    sval=1/max(UVsCop.min(), UVsCop.max(), key=abs)    \n",
    "    S[0,0]=sval\n",
    "    S[1,1]=sval\n",
    "    print(C)\n",
    "    print(S)\n",
    "    return np.dot(S,C)"
   ]
  },
  {
   "cell_type": "code",
   "execution_count": 18,
   "metadata": {
    "collapsed": false
   },
   "outputs": [
    {
     "name": "stdout",
     "output_type": "stream",
     "text": [
      "[[   1.      0.   -558.95]\n",
      " [   0.      1.   -325.6 ]\n",
      " [   0.      0.      1.  ]]\n",
      "[[-0.00193817  0.          0.        ]\n",
      " [ 0.         -0.00193817  0.        ]\n",
      " [ 0.          0.          1.        ]]\n",
      "[[   1.     0.  -616.7]\n",
      " [   0.     1.  -346.9]\n",
      " [   0.     0.     1. ]]\n",
      "[[-0.00168152  0.          0.        ]\n",
      " [ 0.         -0.00168152  0.        ]\n",
      " [ 0.          0.          1.        ]]\n",
      "Ta=\n",
      "[[-0.00193817  0.          1.08334141]\n",
      " [ 0.         -0.00193817  0.6310689 ]\n",
      " [ 0.          0.          1.        ]]\n",
      "Tb=\n",
      "[[-0.00168152  0.          1.03699344]\n",
      " [ 0.         -0.00168152  0.58331932]\n",
      " [ 0.          0.          1.        ]]\n"
     ]
    }
   ],
   "source": [
    "Ta=findT(UVsA)\n",
    "Tb=findT(UVsB)\n",
    "print(\"Ta=\\n\"+str(Ta))\n",
    "print(\"Tb=\\n\"+str(Tb))"
   ]
  },
  {
   "cell_type": "code",
   "execution_count": 19,
   "metadata": {
    "collapsed": false
   },
   "outputs": [
    {
     "data": {
      "text/plain": [
       "array([[ 880.,  214.,    1.],\n",
       "       [  43.,  203.,    1.],\n",
       "       [ 270.,  197.,    1.],\n",
       "       [ 886.,  347.,    1.],\n",
       "       [ 745.,  302.,    1.],\n",
       "       [ 943.,  128.,    1.],\n",
       "       [ 476.,  590.,    1.],\n",
       "       [ 419.,  214.,    1.],\n",
       "       [ 317.,  335.,    1.],\n",
       "       [ 783.,  521.,    1.],\n",
       "       [ 235.,  427.,    1.],\n",
       "       [ 665.,  429.,    1.],\n",
       "       [ 655.,  362.,    1.],\n",
       "       [ 427.,  333.,    1.],\n",
       "       [ 412.,  415.,    1.],\n",
       "       [ 746.,  351.,    1.],\n",
       "       [ 434.,  415.,    1.],\n",
       "       [ 525.,  234.,    1.],\n",
       "       [ 716.,  308.,    1.],\n",
       "       [ 602.,  187.,    1.]])"
      ]
     },
     "execution_count": 19,
     "metadata": {},
     "output_type": "execute_result"
    }
   ],
   "source": [
    "UVsA"
   ]
  },
  {
   "cell_type": "code",
   "execution_count": 20,
   "metadata": {
    "collapsed": false
   },
   "outputs": [
    {
     "name": "stdout",
     "output_type": "stream",
     "text": [
      "F_hat=\n",
      "[[-0.01206826  0.11520152 -0.05025893]\n",
      " [ 0.16687147 -0.02852024  0.61848185]\n",
      " [-0.01143181 -0.75678109 -0.00528552]]\n"
     ]
    }
   ],
   "source": [
    "UVsAprime=np.dot(UVsA,Ta.T)\n",
    "UVsBprime=np.dot(UVsB,Tb.T)\n",
    "f_=findF(UVsAprime,UVsBprime)\n",
    "f_hat=reduceRank(f_)\n",
    "print(\"F_hat=\\n\"+str(f_hat))"
   ]
  },
  {
   "cell_type": "code",
   "execution_count": 21,
   "metadata": {
    "collapsed": false
   },
   "outputs": [
    {
     "data": {
      "text/plain": [
       "array([[-0.62225022,  0.21630003,  1.        ],\n",
       "       [ 1.        ,  0.23761992,  1.        ],\n",
       "       [ 0.56003489,  0.24924896,  1.        ],\n",
       "       [-0.63387925, -0.04147689,  1.        ],\n",
       "       [-0.36059696,  0.04574087,  1.        ],\n",
       "       [-0.74435507,  0.38298285,  1.        ],\n",
       "       [ 0.16077139, -0.51245276,  1.        ],\n",
       "       [ 0.27124721,  0.21630003,  1.        ],\n",
       "       [ 0.46894079, -0.01821882,  1.        ],\n",
       "       [-0.4342475 , -0.37871887,  1.        ],\n",
       "       [ 0.62787092, -0.19653067,  1.        ],\n",
       "       [-0.20554317, -0.20040702,  1.        ],\n",
       "       [-0.18616145, -0.07054947,  1.        ],\n",
       "       [ 0.25574184, -0.01434248,  1.        ],\n",
       "       [ 0.28481442, -0.1732726 ,  1.        ],\n",
       "       [-0.36253513, -0.04922958,  1.        ],\n",
       "       [ 0.24217463, -0.1732726 ,  1.        ],\n",
       "       [ 0.06580095,  0.17753658,  1.        ],\n",
       "       [-0.30438996,  0.03411183,  1.        ],\n",
       "       [-0.08343832,  0.26863068,  1.        ]])"
      ]
     },
     "execution_count": 21,
     "metadata": {},
     "output_type": "execute_result"
    }
   ],
   "source": [
    "UVsAprime"
   ]
  },
  {
   "cell_type": "code",
   "execution_count": 23,
   "metadata": {
    "collapsed": false
   },
   "outputs": [
    {
     "name": "stdout",
     "output_type": "stream",
     "text": [
      "F=\n",
      "[[ -3.93313854e-08   3.75450481e-07  -8.57763913e-06]\n",
      " [  5.43846764e-07  -9.29496199e-08  -1.50187047e-03]\n",
      " [ -1.35869404e-04   1.09294896e-03   3.52182294e-02]]\n"
     ]
    }
   ],
   "source": [
    "f=np.dot(Ta.T,np.dot(f_hat,Tb))\n",
    "print(\"F=\\n\"+str(f))"
   ]
  },
  {
   "cell_type": "markdown",
   "metadata": {},
   "source": [
    "## 2 - 5"
   ]
  },
  {
   "cell_type": "code",
   "execution_count": 24,
   "metadata": {
    "collapsed": false
   },
   "outputs": [],
   "source": [
    "lineB=np.dot(UVsA,f)\n",
    "lineA=np.dot(UVsB,f.T)\n",
    "imgA = cv2.imread('pic_a.jpg')  \n",
    "imgB = cv2.imread('pic_b.jpg') \n",
    "\n",
    "imgBLines = drawlines(imgB,lineB,UVsB,UVsA)\n",
    "imgALines = drawlines(imgA,lineA,UVsA,UVsB)\n",
    "\n",
    "b,g,r = cv2.split(imgALines)       # get b,g,r\n",
    "imgALines = cv2.merge([r,g,b])     # switch it to rgb\n",
    "plt.figure(figsize=(20,30))\n",
    "plt.imshow(imgALines)\n",
    "plt.title('Left with lines'), plt.xticks([]), plt.yticks([])\n",
    "plt.show()\n",
    "\n",
    "b,g,r = cv2.split(imgBLines)       # get b,g,r\n",
    "imgBLines = cv2.merge([r,g,b])     # switch it to rgb\n",
    "plt.figure(figsize=(20,30))\n",
    "plt.imshow(imgBLines)\n",
    "plt.title('Right with lines'), plt.xticks([]), plt.yticks([])\n",
    "plt.show()"
   ]
  },
  {
   "cell_type": "code",
   "execution_count": null,
   "metadata": {
    "collapsed": true
   },
   "outputs": [],
   "source": []
  }
 ],
 "metadata": {
  "kernelspec": {
   "display_name": "Python 3",
   "language": "python",
   "name": "python3"
  },
  "language_info": {
   "codemirror_mode": {
    "name": "ipython",
    "version": 3
   },
   "file_extension": ".py",
   "mimetype": "text/x-python",
   "name": "python",
   "nbconvert_exporter": "python",
   "pygments_lexer": "ipython3",
   "version": "3.5.4"
  }
 },
 "nbformat": 4,
 "nbformat_minor": 2
}
